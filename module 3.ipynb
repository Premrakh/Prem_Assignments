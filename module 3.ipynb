{
 "cells": [
  {
   "cell_type": "code",
   "execution_count": null,
   "id": "d43ce6eb",
   "metadata": {},
   "outputs": [],
   "source": [
    "# 1.What is List? How will you reverse a list?\n",
    "#    list is a collection datatype of python that is a orderd, mutable,indexed and allow duplicate values\n",
    "#  use reverse functionality to reverse list"
   ]
  },
  {
   "cell_type": "code",
   "execution_count": null,
   "id": "7324ca5f",
   "metadata": {},
   "outputs": [],
   "source": [
    "# 2.How will you remove last object from a list?\n",
    "# Ans:- Use list.pop() to remove last object in a list\n"
   ]
  },
  {
   "cell_type": "code",
   "execution_count": null,
   "id": "9a55778e",
   "metadata": {},
   "outputs": [],
   "source": [
    "#3. Differentiate between append () and extend () methods?\n",
    "# ans: append() adds a single element to the end of the list while . extend() can add multiple individual elements to the end of the list\n"
   ]
  },
  {
   "cell_type": "code",
   "execution_count": null,
   "id": "745e2a5b",
   "metadata": {},
   "outputs": [],
   "source": [
    "# 4.Write a Python function to get the largest number, smallest num and sum of all from a list.\n",
    "l1=[25,12,3,10]\n",
    "l1.sort()\n",
    "print(\"smallest number from list\",l1[0])\n",
    "print(\"biggest number from list\",l1[-1])\n",
    "\n",
    "print(\"sum of all element from list is:\",sum(l1))"
   ]
  },
  {
   "cell_type": "code",
   "execution_count": null,
   "id": "d1639ffe",
   "metadata": {},
   "outputs": [],
   "source": [
    "# 5.How will you compare two lists ?\n",
    "l1=[7,5,8,2,9]\n",
    "l2=[78,21,3,5]\n",
    "if l1==l2:\n",
    "    print(\"list are equal\")\n",
    "else:\n",
    "    print(\"list are not equal\")"
   ]
  },
  {
   "cell_type": "code",
   "execution_count": null,
   "id": "028ffdd0",
   "metadata": {},
   "outputs": [],
   "source": [
    "# 6.Write a Python program to count the number of strings where the string length is 2 or more and \n",
    "#   the first and last character are same from a given list of strings\n",
    "l2=[\"game\", \"name\",\"oppo\" ,\"akshara\",\"anjana\"]\n",
    "list1=[]\n",
    "a=0\n",
    "for i in l2:\n",
    "    if len(i)>=2:\n",
    "        if i[0]==i[-1]:\n",
    "            list1.append(i)\n",
    "print(len(list1))\n",
    "\n",
    "            "
   ]
  },
  {
   "cell_type": "code",
   "execution_count": null,
   "id": "8445a206",
   "metadata": {},
   "outputs": [],
   "source": [
    "# 7.Write a Python program to remove duplicates from a list.\n",
    "l1=[4,5,6,1,2,3,5,6,4,4,4,4,4,47,8,9,1,1,1,1]\n",
    "l1=set(l1)\n",
    "l1=list(l1)\n",
    "print(l1)"
   ]
  },
  {
   "cell_type": "code",
   "execution_count": null,
   "id": "fdd226c9",
   "metadata": {},
   "outputs": [],
   "source": [
    "# 8.Write a Python program to check a list is empty or not.\n",
    "l1=[455,52,\"dhdhhdv\"]\n",
    "if len(l1)==0:\n",
    "    print(\"list is empty\")\n",
    "else:\n",
    "    print(\"list is not empty\")"
   ]
  },
  {
   "cell_type": "code",
   "execution_count": null,
   "id": "4e87d72f",
   "metadata": {},
   "outputs": [],
   "source": [
    "#9.Write a Python function that takes two lists and returns true if they have at least one \n",
    "#common member.   \n",
    "l1=[1,2,3,14]       \n",
    "l2=[20,9,20,14]\n",
    "\n",
    "l1=set(l1)\n",
    "l2=set(l2)\n",
    "if l1.isdisjoint(l2):\n",
    "    print(\"False\")\n",
    "else:\n",
    "    print(\"True\")"
   ]
  },
  {
   "cell_type": "code",
   "execution_count": null,
   "id": "a6c002e1",
   "metadata": {},
   "outputs": [],
   "source": [
    "# 10.Write a Python program to generate and print a list of first and last 5 elements where the\n",
    "#    values are square of numbers between 1 and 30.\n",
    "l1=[25,4,225,2,6,8,9,1,144,5,48,5,64,1212,900]                #{doubt}\n",
    "a=l1[0:5]\n",
    "b=l1[-1:-6:-1]\n",
    "l2=a+b\n",
    "for data in l2:\n",
    "    if data<900 and data>1:\n",
    "        print(data)\n"
   ]
  },
  {
   "cell_type": "code",
   "execution_count": null,
   "id": "21eebfaa",
   "metadata": {},
   "outputs": [],
   "source": [
    "# 11.Write a Python function that takes a list and returns a new list with unique elements \n",
    "#       of the first list.\n",
    "    \n",
    "list1=[4,4,4,5,6,7,8,8,8,8,9,8,9]\n",
    "\n",
    "uni_list=[]\n",
    "for i in list1:\n",
    "    if i not in uni_list:\n",
    "        uni_list.append(i)\n",
    "print(uni_list)"
   ]
  },
  {
   "cell_type": "code",
   "execution_count": null,
   "id": "e3f1a689",
   "metadata": {},
   "outputs": [],
   "source": [
    "# 12.Write a Python program to convert a list of characters into a string.\n",
    "list1=[\"p\",\"y\",\"t\",\"h\",\"o\",\"n\"]\n",
    "\n",
    "print(''.join(list1))"
   ]
  },
  {
   "cell_type": "code",
   "execution_count": null,
   "id": "224150f6",
   "metadata": {},
   "outputs": [],
   "source": [
    "#13. Write a Python program to select an item randomly from a list.---------------------------------\n",
    "list1=[2, 33, 222, 14,25]\n",
    "import random\n",
    "print(random.choice(list1))"
   ]
  },
  {
   "cell_type": "code",
   "execution_count": null,
   "id": "a540ba39",
   "metadata": {},
   "outputs": [],
   "source": [
    "# 14.Write a Python program to find the second smallest number in a list.\n",
    "listA=[2, 33, 222, 14,25]\n",
    "listA.sort()\n",
    "print(listA[1])"
   ]
  },
  {
   "cell_type": "code",
   "execution_count": null,
   "id": "8d8557b1",
   "metadata": {},
   "outputs": [],
   "source": [
    "# 15.Write a Python program to get unique values from a list\n",
    "l1=[1,5,3,5,3,7,9,\"good\",\"bad\",\"good\"]\n",
    "l2=[]\n",
    "for i in l1:\n",
    "    if i not in l2:\n",
    "        l2.append(i)\n",
    "        print(i)"
   ]
  },
  {
   "cell_type": "code",
   "execution_count": null,
   "id": "8a9f1332",
   "metadata": {},
   "outputs": [],
   "source": [
    "# 16.Write a Python program to check whether a list contains a sub list\n",
    "A=[5,7,9,4,[7,8,9],\"bcvb\"]\n",
    "for i in A:\n",
    "    if type(i)==list:\n",
    "        print(\"sub list present in list\")\n",
    "        break\n",
    "else:\n",
    "    print(\"sub list does not present in list\")"
   ]
  },
  {
   "cell_type": "code",
   "execution_count": null,
   "id": "a56895b6",
   "metadata": {},
   "outputs": [],
   "source": [
    "# 17.Write a Python program to split a list into different variables.\n",
    "l=[5,7,9,4,[7,8,9],\"bcvb\"]\n",
    "a,b,c,d,e,f=l\n",
    "print(c)"
   ]
  },
  {
   "cell_type": "code",
   "execution_count": null,
   "id": "af0853a9",
   "metadata": {},
   "outputs": [],
   "source": [
    "# 18.What is tuple? Difference between list and tuple.\n",
    "# ans:-list is a collection datatype of python. tuples are used to store multiple items in a single variable\n",
    "#        difference between tuples and list that is tuple is mutable and list is immutable"
   ]
  },
  {
   "cell_type": "code",
   "execution_count": null,
   "id": "60c27aae",
   "metadata": {},
   "outputs": [],
   "source": [
    "# 19.Write a Python program to create a tuple with different data types.\n",
    "t1=(\"tuple\",15,1.5,True,[4,5,6],{4,2,9},(1,2,3))\n",
    "t1"
   ]
  },
  {
   "cell_type": "code",
   "execution_count": null,
   "id": "5124b158",
   "metadata": {},
   "outputs": [],
   "source": [
    "# 20.Write a Python program to create a tuple with numbers.\n",
    "t1=(7,8,4,5,5,6)"
   ]
  },
  {
   "cell_type": "code",
   "execution_count": null,
   "id": "e7b9bf0b",
   "metadata": {},
   "outputs": [],
   "source": [
    "# 21.Write a Python program to convert a tuple to a string.\n",
    "t3=(\"7\",\"8\",\"4\",\"5\",\"5\",\"6\")\n",
    "a=str()\n",
    "for i in t3:\n",
    "    a=a+i\n",
    "print(a)\n"
   ]
  },
  {
   "cell_type": "code",
   "execution_count": null,
   "id": "cff32d4e",
   "metadata": {},
   "outputs": [],
   "source": [
    "# 22.Write a Python program to check whether an element exists within a tuple.\n",
    "value=45\n",
    "t1=(4,78,56,23,45,7,89)\n",
    "if value in t1:\n",
    "    print(\"value exists in tuple\")\n",
    "else:\n",
    "    print(\"value does't exists in tuple\")"
   ]
  },
  {
   "cell_type": "code",
   "execution_count": null,
   "id": "ff0946ab",
   "metadata": {},
   "outputs": [],
   "source": [
    "# 23.Write a Python program to find the length of a tuple.\n",
    "t1=(4,78,56,23,45,7,89)\n",
    "len(t1)"
   ]
  },
  {
   "cell_type": "code",
   "execution_count": null,
   "id": "310ae877",
   "metadata": {},
   "outputs": [],
   "source": [
    "# 24.Write a Python program to convert a list to a tuple.\n",
    "t1=(4,78,56,23,45,7,89)\n",
    "t1=list(t1)\n",
    "print(t1)"
   ]
  },
  {
   "cell_type": "code",
   "execution_count": null,
   "id": "f6730f9d",
   "metadata": {},
   "outputs": [],
   "source": [
    "# 25.Write a Python program to reverse a tuple.\n",
    "t1=(4,78,56,23,45,7,89)\n",
    "t1[-1::-1]"
   ]
  },
  {
   "cell_type": "code",
   "execution_count": null,
   "id": "b5c2f522",
   "metadata": {},
   "outputs": [],
   "source": [
    "# 26.Write a Python program to replace last value of tuples in a list.\n",
    "t1=(4,78,56,23,45,7,89)\n",
    "l1=[5,6]\n",
    "l1.append(t1[-1])\n",
    "print(l1)"
   ]
  },
  {
   "cell_type": "code",
   "execution_count": null,
   "id": "7b3df127",
   "metadata": {},
   "outputs": [],
   "source": [
    "# 27.Write a Python program to find the repeated items of a tuple.\n",
    "t1=(5,4,6,5,7,8,5,\"ipl\")\n",
    "t2=[]\n",
    "for i in t1:\n",
    "    if t1.count(i)>=2:\n",
    "        if i not in t2:\n",
    "            print(i)\n",
    "            t2.append(i)"
   ]
  },
  {
   "cell_type": "code",
   "execution_count": null,
   "id": "9e23175e",
   "metadata": {},
   "outputs": [],
   "source": [
    "# 28.Write a Python program to remove an empty tuple(s) from a list of tuples.\n",
    "l1=[(4,5,6),(),(7,8,90),(),(\"jkl\"),()]\n",
    "for empty in l1:\n",
    "    if len(empty)==0:\n",
    "        l1.remove(empty)\n",
    "print(l1)"
   ]
  },
  {
   "cell_type": "code",
   "execution_count": null,
   "id": "440dfe66",
   "metadata": {},
   "outputs": [],
   "source": [
    "# 29.Write a Python program to unzip a list of tuples into individual lists.\n",
    "l1=[(4,5,6),(),(7,8,90),(),(\"jkl\"),()]\n",
    "a,b,c,d,e,f=l1\n",
    "a=list(a)\n",
    "a"
   ]
  },
  {
   "cell_type": "code",
   "execution_count": null,
   "id": "e2853e27",
   "metadata": {},
   "outputs": [],
   "source": [
    "# 30.Write a Python program to convert a list of tuples into a dictionary.\n",
    "l2=[(\"ab\",\"cd\"),(\"ef\",\"gh\"),(\"ij\",\"kl\")]\n",
    "l2=dict(l2)\n",
    "l2"
   ]
  },
  {
   "cell_type": "code",
   "execution_count": null,
   "id": "0aec24a7",
   "metadata": {},
   "outputs": [],
   "source": [
    "# 31.How will you create a dictionary using tuples in python?\n",
    "Ans.In Python, use the dict() function to convert a tuple to a dictionary. A dictionary object can be \n",
    "    created with the dict() function. The dictionary is returned by the dict() method, which \n",
    "    takes a tuple of tuples as an argument."
   ]
  },
  {
   "cell_type": "code",
   "execution_count": 11,
   "id": "df6cda7b",
   "metadata": {},
   "outputs": [
    {
     "name": "stdout",
     "output_type": "stream",
     "text": [
      "ascending order of dict1:  {'a': 10, 'c': 40, 'b': 100, 'd': 120}\n",
      "ascending order of dict1:  {'d': 120, 'b': 100, 'c': 40, 'a': 10}\n"
     ]
    }
   ],
   "source": [
    "# 32. Write a Python script to sort (ascending and descending) a dictionary by value.\n",
    "dict1={\"a\":10 ,\"b\":100, \"c\":40 ,\"d\":120}\n",
    "list1=list(dict1.items())\n",
    "\n",
    "list1.sort(key=lambda elm:elm[1])\n",
    "print(\"ascending order of dict1: \",dict(list1))\n",
    "\n",
    "list1.sort(key=lambda elm:elm[1],reverse=True)\n",
    "print(\"ascending order of dict1: \",dict(list1))\n"
   ]
  },
  {
   "cell_type": "code",
   "execution_count": null,
   "id": "d527147f",
   "metadata": {},
   "outputs": [],
   "source": [
    "# 33.Write a Python script to concatenate following dictionaries to create a new one.\n",
    "dict1={\"a\":10,\"b\":20,\"c\":30}\n",
    "dict2={\"d\":40,\"e\":50}\n",
    "dict1.update(dict2)\n",
    "dict1"
   ]
  },
  {
   "cell_type": "code",
   "execution_count": null,
   "id": "baa071fd",
   "metadata": {},
   "outputs": [],
   "source": [
    "# 34.Write a Python script to check if a given key already exists in a dictionary.\n",
    "dict1={\"a\":10,\"b\":20,\"c\":30}\n",
    "key = input()\n",
    "if key in dict1:\n",
    "    print(\"key is present in dict1\")\n",
    "else:\n",
    "    print(\"key is not present in dict1\")"
   ]
  },
  {
   "cell_type": "code",
   "execution_count": null,
   "id": "326b4951",
   "metadata": {},
   "outputs": [],
   "source": [
    "# 35.How Do You Traverse Through A Dictionary Object In Python?\n",
    "Ans. Using For loop to Traverse Through A Dictionary Object In Python"
   ]
  },
  {
   "cell_type": "code",
   "execution_count": null,
   "id": "55ec22dc",
   "metadata": {},
   "outputs": [],
   "source": [
    "# 36.How Do You Check The Presence Of A Key In A Dictionary?\n",
    "Ans. Using dict[keys] method return index of key if a given key is available in the dictionary \n",
    "      othervise returns Error"
   ]
  },
  {
   "cell_type": "code",
   "execution_count": null,
   "id": "78f58efb",
   "metadata": {},
   "outputs": [],
   "source": [
    "# 37.Write a Python script to print a dictionary where the keys are numbers between 1 and 15.\n",
    "dict2.fromkeys(range(1,16),)"
   ]
  },
  {
   "cell_type": "code",
   "execution_count": null,
   "id": "53a52230",
   "metadata": {},
   "outputs": [],
   "source": [
    "# 38. Write a Python program to check multiple keys exists in a dictionary\n",
    "dict1={\"a\":10,\"b\":20,\"c\":30}\n",
    "if len(dict1)>1:\n",
    "    print(\"multiple keys exists in a dict1\")\n",
    "else:\n",
    "    print(\"multiple keys not exists in a dict\")"
   ]
  },
  {
   "cell_type": "code",
   "execution_count": null,
   "id": "0ec5268e",
   "metadata": {},
   "outputs": [],
   "source": [
    "# 39.Write a Python script to merge two Python dictionaries\n",
    "dict1={\"a\":10,\"b\":20,\"c\":30}\n",
    "dict2={\"d\":50,\"e\":60}\n",
    "dict1.update(dict2)\n",
    "dict1"
   ]
  },
  {
   "cell_type": "code",
   "execution_count": null,
   "id": "1723d4d2",
   "metadata": {},
   "outputs": [],
   "source": [
    "# 40.Write a Python program to map two lists into a dictionary\n",
    "l1=['a','b','c','d']\n",
    "l2=[10,20,30,40]\n",
    "dict(zip(l1,l2))"
   ]
  },
  {
   "cell_type": "code",
   "execution_count": null,
   "id": "7a1770fd",
   "metadata": {},
   "outputs": [],
   "source": [
    "# 41. Write a Python program to combine two dictionary adding values for common keys.\n",
    "# d1 = {'a': 100, 'b': 200, 'c':300} o d2 = {'a': 300, 'b': 200,’d’:400}\n",
    "# Sample output: Counter ({'a': 400, 'b': 400,’d’: 400, 'c': 300}).\n",
    "d1 = {'a': 100, 'b': 200, 'c':300 ,'e':500}\n",
    "d2 = {'a': 300, 'b': 200,'d':400}\n",
    "d3={}\n",
    "for i in d1:\n",
    "    if i in d2:\n",
    "        a=d1[i]+d2[i]\n",
    "        d3.update({i:a})\n",
    "d1.update(d2)\n",
    "d1.update(d3)\n",
    "d1"
   ]
  },
  {
   "cell_type": "code",
   "execution_count": 13,
   "id": "a981fa63",
   "metadata": {},
   "outputs": [
    {
     "name": "stdout",
     "output_type": "stream",
     "text": [
      "300\n",
      "600\n"
     ]
    }
   ],
   "source": [
    "# 42 Write a Python program to print all unique values in a dictionary.\n",
    "d1 = {'a': 100, 'b': 400, 'c':300 ,'d':400,'e':100,'f':600}\n",
    "value=list(d1.values())\n",
    "list1=[]\n",
    "for uni_value in value:\n",
    "    if value.count(uni_value)==1:\n",
    "        print(uni_value)\n",
    "    else:\n",
    "        countinue\n",
    "  "
   ]
  },
  {
   "cell_type": "code",
   "execution_count": null,
   "id": "c6b0ec57",
   "metadata": {},
   "outputs": [],
   "source": [
    "# 43. Why Do You Use the Zip () Method in Python?\n",
    "Ans. using the python zip() function for parallel iteration. python zip() function creates \n",
    "      an iterator that will aggregate elements from two or more iterable"
   ]
  },
  {
   "cell_type": "code",
   "execution_count": null,
   "id": "a8c1e92e",
   "metadata": {},
   "outputs": [],
   "source": [
    "# 44.Write a Python program to create and display all combinations of letters, selecting each letter\n",
    "#  from a different key in a dictionary.\n",
    "# Sample data: {'1': ['a','b'], '2': ['c','d']}\n",
    "# Expected Output:\n",
    "# ac ad bc bd\n",
    "d1={'1': ['a','b','y'], '2': ['c','d','z']}\n",
    "a=list(d1.values())\n",
    "for i in a[0]:\n",
    "    for j in a[1]:\n",
    "        print(i+j,end=' ')\n",
    "        "
   ]
  },
  {
   "cell_type": "code",
   "execution_count": null,
   "id": "686841c9",
   "metadata": {},
   "outputs": [],
   "source": [
    "# 45. Write a Python program to find the highest 3 values in a dictionary\n",
    "d1 = {'a': 100, 'b': 400, 'c':300 ,'d':500,'e':100,'f':600}\n",
    "l1=list(d1.values())\n",
    "l1.sort(reverse=True)\n",
    "for i in range(3):\n",
    "    print(l1[i])"
   ]
  },
  {
   "cell_type": "code",
   "execution_count": null,
   "id": "75a9f76f",
   "metadata": {},
   "outputs": [],
   "source": [
    "# 46. Write a Python program to combine values in python list of dictionaries. Sample data:\n",
    "l1=[{'item': 'item1', 'amount': 400},{'item': 'item2', 'amount':300},{'item': 'item1', 'amount': 750}]\n",
    "# Expected Output:\n",
    "# Counter ({'item1': 1150, 'item2': 300})\n",
    "new={}\n",
    "for s_dict in l1:\n",
    "    if s_dict[\"item\"] in new:\n",
    "        new[s_dict[\"item\"]]+=s_dict[\"amount\"]\n",
    "    else:\n",
    "        new[s_dict[\"item\"]]=s_dict[\"amount\"]\n",
    "print(new)"
   ]
  },
  {
   "cell_type": "code",
   "execution_count": null,
   "id": "e93dd632",
   "metadata": {},
   "outputs": [],
   "source": [
    "# 47.Write a Python program to create a dictionary from a string.\n",
    "# Note: Track the count of the letters from the string.\n",
    "# Sample string: 'w3resource'\n",
    "# Expected output:\n",
    "# {'3': 1,’s’: 1, 'r': 2, 'u': 1, 'w': 1, 'c': 1, 'e': 2, 'o': 1}\n",
    "str1='w3resource'\n",
    "dict1={}\n",
    "for i in str1:\n",
    "    dict1.update({i:str1.count(i)})\n",
    "dict1"
   ]
  },
  {
   "cell_type": "code",
   "execution_count": null,
   "id": "8db20219",
   "metadata": {},
   "outputs": [],
   "source": [
    "# 48.Write a Python function to calculate the factorial of a number (a nonnegative integer)\n",
    "def fun1(var):\n",
    "    if var<=1:\n",
    "        return 1\n",
    "    else:\n",
    "        return var * fun1(var-1)\n",
    "fun1(5)"
   ]
  },
  {
   "cell_type": "code",
   "execution_count": null,
   "id": "9dd99e6a",
   "metadata": {},
   "outputs": [],
   "source": [
    "# 49.Write a Python function to check whether a number is in a given range.\n",
    "def fun(num):\n",
    "    return num in range(100)\n",
    "fun(200)"
   ]
  },
  {
   "cell_type": "code",
   "execution_count": null,
   "id": "6b168f7b",
   "metadata": {},
   "outputs": [],
   "source": [
    "# 50.Write a Python function to check whether a number is perfect or not.\n",
    "def fun(value):\n",
    "    if value%5==0:\n",
    "        return \"value is perfect\"\n",
    "    else:\n",
    "        return \"value is not perfect\"\n",
    "fun(480)"
   ]
  },
  {
   "cell_type": "code",
   "execution_count": null,
   "id": "dfe98940",
   "metadata": {},
   "outputs": [],
   "source": [
    "# 51.Write a Python function that checks whether a passed string is palindrome or not\n",
    "def fun(str1):\n",
    "    if str1==str1[::-1]:\n",
    "        return print(\"{str1}is palindrome\")\n",
    "    else:\n",
    "        return print(\"{str1} is not palindrome\")\n",
    "\n",
    "fun(\"prp\")      \n",
    "    "
   ]
  },
  {
   "cell_type": "code",
   "execution_count": null,
   "id": "d9728f6e",
   "metadata": {},
   "outputs": [],
   "source": [
    "# 52.How Many Basic Types Of Functions Are Available In Python?\n",
    "Ans. three types of fuction available in python\n",
    "    (1) User Define function\n",
    "    (2) Built-In function\n",
    "    (3) lambda function"
   ]
  },
  {
   "cell_type": "code",
   "execution_count": null,
   "id": "a13570e8",
   "metadata": {},
   "outputs": [],
   "source": [
    "# 53. How can you pick a random item from a list or tuple?\n",
    "Ans.  Using random.randrange() to select random value from a list."
   ]
  },
  {
   "cell_type": "code",
   "execution_count": null,
   "id": "cf6eb82a",
   "metadata": {},
   "outputs": [],
   "source": [
    "# 54.How can you get a random number in python?\n",
    "Ans. Using random.randrange(number) to get random number in python"
   ]
  },
  {
   "cell_type": "code",
   "execution_count": null,
   "id": "f224b43d",
   "metadata": {},
   "outputs": [],
   "source": [
    "# 55.How will you set the starting value in generating random numbers?\n",
    "import random\n",
    "start_num= 5\n",
    "num= random.randrange(start_num,10)\n",
    "print(num)"
   ]
  },
  {
   "cell_type": "code",
   "execution_count": null,
   "id": "8752a36a",
   "metadata": {},
   "outputs": [],
   "source": [
    "# 56.How will you randomizes the items of a list in place?\n",
    "Ans. The shuffle() method randomizes the items of a list in place."
   ]
  },
  {
   "cell_type": "code",
   "execution_count": 1,
   "id": "ecfd4f1e",
   "metadata": {},
   "outputs": [
    {
     "ename": "SyntaxError",
     "evalue": "invalid syntax (2339669623.py, line 4)",
     "output_type": "error",
     "traceback": [
      "\u001b[1;36m  Input \u001b[1;32mIn [1]\u001b[1;36m\u001b[0m\n\u001b[1;33m    num=random.randrange(,50)\u001b[0m\n\u001b[1;37m                         ^\u001b[0m\n\u001b[1;31mSyntaxError\u001b[0m\u001b[1;31m:\u001b[0m invalid syntax\n"
     ]
    }
   ],
   "source": [
    "#  57.Write a Python program to read a random line from a file.\n",
    "import random\n",
    "f13=open(r'C:\\Users\\Lenovo\\ADVANCE PYTHON\\prem.txt','r')\n",
    "num=random.randrange(,50)\n",
    "f13.seek(num)\n",
    "random_line=f13.readline\n",
    "print(random_line)"
   ]
  },
  {
   "cell_type": "code",
   "execution_count": null,
   "id": "26f55659",
   "metadata": {},
   "outputs": [],
   "source": [
    "# 58. Write a Python program to convert degree to radian\n",
    "pi=22/7\n",
    "degree= int(input())\n",
    "radian= degree* pi/180\n",
    "print(radian)"
   ]
  },
  {
   "cell_type": "code",
   "execution_count": null,
   "id": "47c87b4f",
   "metadata": {},
   "outputs": [],
   "source": [
    "# 59. Write a Python program to calculate the area of a trapezoid\n",
    "Base_a=int(input(\"enter value:\"))\n",
    "Base_b=int(input(\"enter value:\"))\n",
    "h=int(input(\"enter height:\"))\n",
    "area=(Base_a + Base_b)*h/2\n",
    "print(\"area of trapezoid \", area)"
   ]
  },
  {
   "cell_type": "code",
   "execution_count": null,
   "id": "d2d3e89c",
   "metadata": {},
   "outputs": [],
   "source": [
    "# 60.Write a Python program to calculate the area of a parallelogram\n",
    "b=int(input(\"enter base value:\"))\n",
    "h=int(input(\"enter height value\"))\n",
    "area= b*h\n",
    "print(\"area of parallellogram is \",area)"
   ]
  },
  {
   "cell_type": "code",
   "execution_count": null,
   "id": "54e59511",
   "metadata": {},
   "outputs": [],
   "source": [
    "# 61.Write a Python program to calculate surface volume and area of a cylinder\n",
    "r=int(input(\"enter a radius:\"))\n",
    "h=int(input(\"enter a height:\"))\n",
    "pi=22/7\n",
    "volume= pi*r**2*h\n",
    "area=2*pi*r*(r+h)\n",
    "print(\" surface volume of cylinder\",volume)\n",
    "print(\" surface area of cylinder\",area)"
   ]
  },
  {
   "cell_type": "code",
   "execution_count": null,
   "id": "9df3757f",
   "metadata": {},
   "outputs": [],
   "source": [
    "# 64.Write a Python program to returns sum of all divisors of a number\n",
    "num=10\n",
    "sum_div=0\n",
    "for i in range(1,num+1):\n",
    "    if num%i==0:\n",
    "        sum_div+=i\n",
    "    else:\n",
    "        continue\n",
    "print(sum_div)"
   ]
  },
  {
   "cell_type": "code",
   "execution_count": null,
   "id": "28941e69",
   "metadata": {},
   "outputs": [],
   "source": [
    "# 63. Write a Python program to find the maximum and minimum numbers from the specified decimal num\n",
    "l1=[1.46,4.52,5,6.454,7.02]\n",
    "print(max(l1))\n",
    "print(min(l1))"
   ]
  }
 ],
 "metadata": {
  "kernelspec": {
   "display_name": "Python 3 (ipykernel)",
   "language": "python",
   "name": "python3"
  },
  "language_info": {
   "codemirror_mode": {
    "name": "ipython",
    "version": 3
   },
   "file_extension": ".py",
   "mimetype": "text/x-python",
   "name": "python",
   "nbconvert_exporter": "python",
   "pygments_lexer": "ipython3",
   "version": "3.9.12"
  }
 },
 "nbformat": 4,
 "nbformat_minor": 5
}
