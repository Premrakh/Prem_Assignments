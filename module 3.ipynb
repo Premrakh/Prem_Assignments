{
 "cells": [
  {
   "cell_type": "code",
   "execution_count": 3,
   "id": "d43ce6eb",
   "metadata": {},
   "outputs": [],
   "source": [
    "# 1.What is List? How will you reverse a list?\n",
    "#    list is a collection datatype of python that is a orderd, mutable,indexed and allow duplicate values\n",
    "#  use reverse functionality to reverse list"
   ]
  },
  {
   "cell_type": "code",
   "execution_count": 35,
   "id": "7324ca5f",
   "metadata": {},
   "outputs": [
    {
     "data": {
      "text/plain": [
       "[2, 33, 222, 14]"
      ]
     },
     "execution_count": 35,
     "metadata": {},
     "output_type": "execute_result"
    }
   ],
   "source": [
    "# 2.How will you remove last object from a list?\n",
    "# Ans:- Use list.pop() to remove last object in a list\n"
   ]
  },
  {
   "cell_type": "code",
   "execution_count": 9,
   "id": "9a55778e",
   "metadata": {},
   "outputs": [],
   "source": [
    "#3. Differentiate between append () and extend () methods?\n",
    "# ans: append() adds a single element to the end of the list while . extend() can add multiple individual elements to the end of the list\n"
   ]
  },
  {
   "cell_type": "code",
   "execution_count": 19,
   "id": "745e2a5b",
   "metadata": {},
   "outputs": [
    {
     "name": "stdout",
     "output_type": "stream",
     "text": [
      "smallest number from list 3\n",
      "biggest number from list 25\n",
      "sum of all element from list is: 50\n"
     ]
    }
   ],
   "source": [
    "# 4.Write a Python function to get the largest number, smallest num and sum of all from a list.\n",
    "l1=[25,12,3,10]\n",
    "l1.sort()\n",
    "print(\"smallest number from list\",l1[0])\n",
    "print(\"biggest number from list\",l1[-1])\n",
    "\n",
    "a=0\n",
    "for i in l1:\n",
    "    a+=i\n",
    "print(\"sum of all element from list is:\",a)"
   ]
  },
  {
   "cell_type": "code",
   "execution_count": 36,
   "id": "d1639ffe",
   "metadata": {},
   "outputs": [
    {
     "data": {
      "text/plain": [
       "False"
      ]
     },
     "execution_count": 36,
     "metadata": {},
     "output_type": "execute_result"
    }
   ],
   "source": [
    "# 5.How will you compare two lists?----------------------------------------------------------------------------------------\n"
   ]
  },
  {
   "cell_type": "code",
   "execution_count": 28,
   "id": "028ffdd0",
   "metadata": {},
   "outputs": [
    {
     "name": "stdout",
     "output_type": "stream",
     "text": [
      "3\n"
     ]
    }
   ],
   "source": [
    "# 6.Write a Python program to count the number of strings where the string length is 2 or more and \n",
    "#   the first and last character are same from a given list of strings\n",
    "l2=[\"game\", \"name\",\"oppo\" ,\"akshara\",\"anjana\"]\n",
    "list=[]\n",
    "a=0\n",
    "for i in l2:\n",
    "    if len(i)>2:\n",
    "        if i[0]==i[-1]:\n",
    "            list.append(i)\n",
    "print(len(list))\n",
    "\n",
    "            "
   ]
  },
  {
   "cell_type": "code",
   "execution_count": 32,
   "id": "8445a206",
   "metadata": {},
   "outputs": [
    {
     "name": "stdout",
     "output_type": "stream",
     "text": [
      "[4, 5, 6, 1, 2, 3, 47, 8, 9]\n"
     ]
    }
   ],
   "source": [
    "# 7.Write a Python program to remove duplicates from a list.\n",
    "l1=[4,5,6,1,2,3,5,6,4,4,4,4,4,47,8,9,1,1,1,1]\n",
    "l2=[]\n",
    "for i in l1:\n",
    "    if i not in l2:\n",
    "        l2.append(i)\n",
    "print(l2)"
   ]
  },
  {
   "cell_type": "code",
   "execution_count": 37,
   "id": "fdd226c9",
   "metadata": {},
   "outputs": [
    {
     "name": "stdout",
     "output_type": "stream",
     "text": [
      "list is not empty\n"
     ]
    }
   ],
   "source": [
    "# 8.Write a Python program to check a list is empty or not.\n",
    "l1=[455,52,\"dhdhhdv\"]\n",
    "if len(l1)==0:\n",
    "    print(\"list is empty\")\n",
    "else:\n",
    "    print(\"list is not empty\")"
   ]
  },
  {
   "cell_type": "code",
   "execution_count": 47,
   "id": "4e87d72f",
   "metadata": {},
   "outputs": [
    {
     "name": "stdout",
     "output_type": "stream",
     "text": [
      "true\n"
     ]
    }
   ],
   "source": [
    "#9.Write a Python function that takes two lists and returns true if they have at least one \n",
    "#common member.\n",
    "l1=[1,2,3,4]\n",
    "l2=[5,6,7,4]\n",
    "for i in l1:\n",
    "    for j in l2:\n",
    "        if i==j:\n",
    "            print(\"true\")\n",
    "        "
   ]
  },
  {
   "cell_type": "code",
   "execution_count": 28,
   "id": "a6c002e1",
   "metadata": {},
   "outputs": [
    {
     "ename": "SyntaxError",
     "evalue": "invalid syntax (3277531047.py, line 3)",
     "output_type": "error",
     "traceback": [
      "\u001b[1;36m  Input \u001b[1;32mIn [28]\u001b[1;36m\u001b[0m\n\u001b[1;33m    d=[25,4,225,2,6,8,9,1,144,5,48,5,64,1212,900]                {doubt}\u001b[0m\n\u001b[1;37m                                                                 ^\u001b[0m\n\u001b[1;31mSyntaxError\u001b[0m\u001b[1;31m:\u001b[0m invalid syntax\n"
     ]
    }
   ],
   "source": [
    "# 10.Write a Python program to generate and print a list of first and last 5 elements where the\n",
    "#    values are square of numbers between 1 and 30.\n",
    "d=[25,4,225,2,6,8,9,1,144,5,48,5,64,1212,900]                {doubt}\n",
    "\n",
    "a=[d[0],d[1],d[2],d[3],d[4],d[-1],d[-2],d[-3],d[-4],d[-5]]\n",
    "print(a)\n",
    "for i in a:\n",
    "    if 1<i**(1/2)<30:\n",
    "        print(i)\n",
    "\n",
    "            "
   ]
  },
  {
   "cell_type": "code",
   "execution_count": 62,
   "id": "21eebfaa",
   "metadata": {},
   "outputs": [
    {
     "name": "stdout",
     "output_type": "stream",
     "text": [
      "[1, 5, 3, 7, 9, 'good', 'bad']\n"
     ]
    }
   ],
   "source": [
    "# 11.Write a Python function that takes a list and returns a new list with unique elements \n",
    "#       of the first list.\n",
    "    \n",
    "list1=\n",
    "\n",
    "uni_list=[]\n",
    "for i in list1:\n",
    "    if i not in uni_list:\n",
    "        uni_list.append(i)\n",
    "print(uni_list)"
   ]
  },
  {
   "cell_type": "code",
   "execution_count": 66,
   "id": "e3f1a689",
   "metadata": {},
   "outputs": [
    {
     "name": "stdout",
     "output_type": "stream",
     "text": [
      "python\n"
     ]
    }
   ],
   "source": [
    "# 12.Write a Python program to convert a list of characters into a string.\n",
    "list1=[\"p\",\"y\",\"t\",\"h\",\"o\",\"n\"]\n",
    "a=\"\"\n",
    "for i in list1:\n",
    "    a=a+i\n",
    "print(a)"
   ]
  },
  {
   "cell_type": "code",
   "execution_count": 1,
   "id": "224150f6",
   "metadata": {},
   "outputs": [],
   "source": [
    "#13. Write a Python program to select an item randomly from a list.---------------------------------\n"
   ]
  },
  {
   "cell_type": "code",
   "execution_count": 3,
   "id": "a540ba39",
   "metadata": {},
   "outputs": [
    {
     "name": "stdout",
     "output_type": "stream",
     "text": [
      "14\n"
     ]
    }
   ],
   "source": [
    "# 14.Write a Python program to find the second smallest number in a list.\n",
    "listA=[2, 33, 222, 14,25]\n",
    "listA.sort()\n",
    "print(listA[1])"
   ]
  },
  {
   "cell_type": "code",
   "execution_count": 8,
   "id": "8d8557b1",
   "metadata": {},
   "outputs": [
    {
     "name": "stdout",
     "output_type": "stream",
     "text": [
      "1\n",
      "5\n",
      "3\n",
      "7\n",
      "9\n",
      "good\n",
      "bad\n"
     ]
    }
   ],
   "source": [
    "# 15.Write a Python program to get unique values from a list\n",
    "l1=[1,5,3,5,3,7,9,\"good\",\"bad\",\"good\"]\n",
    "l2=[]\n",
    "for i in l1:\n",
    "    if i not in l2:\n",
    "        l2.append(i)\n",
    "        print(i)"
   ]
  },
  {
   "cell_type": "code",
   "execution_count": 49,
   "id": "8a9f1332",
   "metadata": {},
   "outputs": [
    {
     "name": "stdout",
     "output_type": "stream",
     "text": [
      "sub list present in list\n"
     ]
    }
   ],
   "source": [
    "# 16.Write a Python program to check whether a list contains a sub list\n",
    "A=[5,7,9,4,[7,8,9],\"bcvb\"]\n",
    "for i in A:\n",
    "    if type(i)==list:\n",
    "        print(\"sub list present in list\")\n",
    "        break\n",
    "else:\n",
    "    print(\"sub list does not present in list\")"
   ]
  },
  {
   "cell_type": "code",
   "execution_count": 58,
   "id": "a56895b6",
   "metadata": {},
   "outputs": [
    {
     "name": "stdout",
     "output_type": "stream",
     "text": [
      "9\n"
     ]
    }
   ],
   "source": [
    "# 17.Write a Python program to split a list into different variables.\n",
    "l=[5,7,9,4,[7,8,9],\"bcvb\"]\n",
    "a,b,c,d,e,f=l\n",
    "print(c)"
   ]
  },
  {
   "cell_type": "code",
   "execution_count": 59,
   "id": "af0853a9",
   "metadata": {},
   "outputs": [],
   "source": [
    "# 18.What is tuple? Difference between list and tuple.\n",
    "# ans:-list is a collection datatype of python. tuples are used to store multiple items in a single variable\n",
    "#        difference between tuples and list that is tuple is mutable and list is immutable"
   ]
  },
  {
   "cell_type": "code",
   "execution_count": 61,
   "id": "60c27aae",
   "metadata": {},
   "outputs": [
    {
     "data": {
      "text/plain": [
       "('tuple', 15, 1.5, True, [4, 5, 6], {2, 4, 9}, (1, 2, 3))"
      ]
     },
     "execution_count": 61,
     "metadata": {},
     "output_type": "execute_result"
    }
   ],
   "source": [
    "# 19.Write a Python program to create a tuple with different data types.\n",
    "t1=(\"tuple\",15,1.5,True,[4,5,6],{4,2,9},(1,2,3))\n",
    "t1"
   ]
  },
  {
   "cell_type": "code",
   "execution_count": 68,
   "id": "5124b158",
   "metadata": {},
   "outputs": [],
   "source": [
    "# 20.Write a Python program to create a tuple with numbers.\n",
    "t1=(7,8,4,5,5,6)"
   ]
  },
  {
   "cell_type": "code",
   "execution_count": 74,
   "id": "e7b9bf0b",
   "metadata": {},
   "outputs": [
    {
     "name": "stdout",
     "output_type": "stream",
     "text": [
      "784556\n"
     ]
    }
   ],
   "source": [
    "# 21.Write a Python program to convert a tuple to a string.\n",
    "t3=(\"7\",\"8\",\"4\",\"5\",\"5\",\"6\")\n",
    "a=str()\n",
    "for i in t3:\n",
    "    a=a+i\n",
    "print(a)\n"
   ]
  },
  {
   "cell_type": "code",
   "execution_count": 78,
   "id": "cff32d4e",
   "metadata": {},
   "outputs": [
    {
     "name": "stdout",
     "output_type": "stream",
     "text": [
      "value exists in tuple\n"
     ]
    }
   ],
   "source": [
    "# 22.Write a Python program to check whether an element exists within a tuple.\n",
    "value=45\n",
    "t1=(4,78,56,23,45,7,89)\n",
    "if value in t1:\n",
    "    print(\"value exists in tuple\")\n",
    "else:\n",
    "    print(\"value does't exists in tuple\")"
   ]
  },
  {
   "cell_type": "code",
   "execution_count": 80,
   "id": "ff0946ab",
   "metadata": {},
   "outputs": [
    {
     "data": {
      "text/plain": [
       "7"
      ]
     },
     "execution_count": 80,
     "metadata": {},
     "output_type": "execute_result"
    }
   ],
   "source": [
    "# 23.Write a Python program to find the length of a tuple.\n",
    "t1=(4,78,56,23,45,7,89)\n",
    "len(t1)"
   ]
  },
  {
   "cell_type": "code",
   "execution_count": 86,
   "id": "310ae877",
   "metadata": {},
   "outputs": [
    {
     "name": "stdout",
     "output_type": "stream",
     "text": [
      "[89, 7, 45, 23, 56, 78, 4]\n"
     ]
    }
   ],
   "source": [
    "# 24.Write a Python program to convert a list to a tuple.\n",
    "t1=(4,78,56,23,45,7,89)\n",
    "t1=list(t1)\n",
    "print(t1)"
   ]
  },
  {
   "cell_type": "code",
   "execution_count": 93,
   "id": "f6730f9d",
   "metadata": {},
   "outputs": [
    {
     "data": {
      "text/plain": [
       "(89, 7, 45, 23, 56, 78, 4)"
      ]
     },
     "execution_count": 93,
     "metadata": {},
     "output_type": "execute_result"
    }
   ],
   "source": [
    "# 25.Write a Python program to reverse a tuple.\n",
    "t1=(4,78,56,23,45,7,89)\n",
    "t1[-1::-1]"
   ]
  },
  {
   "cell_type": "code",
   "execution_count": 1,
   "id": "b5c2f522",
   "metadata": {},
   "outputs": [
    {
     "name": "stdout",
     "output_type": "stream",
     "text": [
      "[5, 6, 89]\n"
     ]
    }
   ],
   "source": [
    "# 26.Write a Python program to replace last value of tuples in a list.\n",
    "t1=(4,78,56,23,45,7,89)\n",
    "l1=[5,6]\n",
    "l1.append(t1[-1])\n",
    "print(l1)"
   ]
  },
  {
   "cell_type": "code",
   "execution_count": 12,
   "id": "7b3df127",
   "metadata": {},
   "outputs": [
    {
     "data": {
      "text/plain": [
       "6"
      ]
     },
     "execution_count": 12,
     "metadata": {},
     "output_type": "execute_result"
    }
   ],
   "source": [
    "# 27.Write a Python program to find the repeated items of a tuple.\n",
    "tu=[5,4,6,5,7,8,5,\"ipl\"]\n",
    "tu.index(5,5,7)"
   ]
  },
  {
   "cell_type": "code",
   "execution_count": 23,
   "id": "9e23175e",
   "metadata": {},
   "outputs": [
    {
     "name": "stdout",
     "output_type": "stream",
     "text": [
      "[(4, 5, 6), (7, 8, 90), 'jkl']\n"
     ]
    }
   ],
   "source": [
    "# 28.Write a Python program to remove an empty tuple(s) from a list of tuples.\n",
    "l1=[(4,5,6),(),(7,8,90),(),(\"jkl\"),()]\n",
    "for empty in l1:\n",
    "    if len(empty)==0:\n",
    "        l1.remove(empty)\n",
    "print(l1)"
   ]
  },
  {
   "cell_type": "code",
   "execution_count": 32,
   "id": "440dfe66",
   "metadata": {},
   "outputs": [
    {
     "data": {
      "text/plain": [
       "[4, 5, 6]"
      ]
     },
     "execution_count": 32,
     "metadata": {},
     "output_type": "execute_result"
    }
   ],
   "source": [
    "# 29.Write a Python program to unzip a list of tuples into individual lists.\n",
    "l1=[(4,5,6),(),(7,8,90),(),(\"jkl\"),()]\n",
    "a,b,c,d,e,f=l1\n",
    "a=list(a)\n",
    "a"
   ]
  }
 ],
 "metadata": {
  "kernelspec": {
   "display_name": "Python 3 (ipykernel)",
   "language": "python",
   "name": "python3"
  },
  "language_info": {
   "codemirror_mode": {
    "name": "ipython",
    "version": 3
   },
   "file_extension": ".py",
   "mimetype": "text/x-python",
   "name": "python",
   "nbconvert_exporter": "python",
   "pygments_lexer": "ipython3",
   "version": "3.9.12"
  }
 },
 "nbformat": 4,
 "nbformat_minor": 5
}
