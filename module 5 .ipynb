{
 "cells": [
  {
   "cell_type": "code",
   "execution_count": null,
   "id": "ebe35c36",
   "metadata": {},
   "outputs": [],
   "source": [
    "# 1.Why Django should be used for web-development? Explain how you can create a project in Django?\n",
    "# Ans : Django is the best framework for web applications, as it allows developers to use modules\n",
    "#       for faster development\n",
    "APPLY COMMAND FOR START PROJECT\n",
    "-python -m venv enviorment_name\n",
    "-enviorment_name\\Scripts\\activate\n",
    "-pip install django\n",
    "-django-admin startproject mysite .\n",
    "-python manage.py migrate\n",
    "-python manage.py runserver"
   ]
  },
  {
   "cell_type": "code",
   "execution_count": null,
   "id": "c6eaf67b",
   "metadata": {},
   "outputs": [],
   "source": [
    "2. How to check installed version of django?\n",
    "Ans :python -m django --version"
   ]
  },
  {
   "cell_type": "code",
   "execution_count": null,
   "id": "46222798",
   "metadata": {},
   "outputs": [],
   "source": [
    "3.Explain what does django-admin.py make messages command is used for?\n",
    "Ans :makemessages. Runs over the entire source tree of the current directory and pulls out all strings marked for translation."
   ]
  },
  {
   "cell_type": "code",
   "execution_count": null,
   "id": "32b96406",
   "metadata": {},
   "outputs": [],
   "source": [
    "4.What is Django URLs?make program to create django urls\n",
    "Ans : In Django, URLs are used to map incoming requests to their respective view functions."
   ]
  },
  {
   "cell_type": "code",
   "execution_count": null,
   "id": "ef2b39da",
   "metadata": {},
   "outputs": [],
   "source": [
    "5.What is a QuerySet?Write program to create a new Post object in database:\n",
    "Ans : In Django, a QuerySet is a collection (or list) of database objects (or rows) that match a particular query."
   ]
  },
  {
   "cell_type": "code",
   "execution_count": null,
   "id": "54697b3f",
   "metadata": {},
   "outputs": [],
   "source": [
    "6.Mention what command line can be used to load data into Django?\n"
   ]
  }
 ],
 "metadata": {
  "kernelspec": {
   "display_name": "Python 3 (ipykernel)",
   "language": "python",
   "name": "python3"
  },
  "language_info": {
   "codemirror_mode": {
    "name": "ipython",
    "version": 3
   },
   "file_extension": ".py",
   "mimetype": "text/x-python",
   "name": "python",
   "nbconvert_exporter": "python",
   "pygments_lexer": "ipython3",
   "version": "3.9.12"
  }
 },
 "nbformat": 4,
 "nbformat_minor": 5
}
