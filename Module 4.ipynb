{
 "cells": [
  {
   "cell_type": "code",
   "execution_count": null,
   "id": "51408bd8",
   "metadata": {},
   "outputs": [],
   "source": [
    "# 1.What is File function in python? What is keywords to create and write file.\n",
    "Ans: A file Object allows us to use, access and manipulate all the user accessible files\n",
    "    keyword For create Is ==> 'x'\n",
    "    keyword For write Is ==> 'w'"
   ]
  },
  {
   "cell_type": "code",
   "execution_count": null,
   "id": "003eb11f",
   "metadata": {},
   "outputs": [],
   "source": [
    "# 2.Write a Python program to read an entire text file.\n",
    "a=open('assignment.txt','r')\n",
    "print(a.read())\n",
    "a.close()"
   ]
  },
  {
   "cell_type": "code",
   "execution_count": null,
   "id": "a19ee554",
   "metadata": {},
   "outputs": [],
   "source": [
    "# 3.Write a Python program to append text to a file and display the text.\n",
    "ans=open('assignment.txt','a')\n",
    "ans.write(\"\\nthis is answer of third question\")\n",
    "ans.close()\n",
    "ans=open('assignment.txt','r')\n",
    "print(ans.read())"
   ]
  },
  {
   "cell_type": "code",
   "execution_count": null,
   "id": "304bf6e5",
   "metadata": {},
   "outputs": [],
   "source": [
    "# 4.Write a Python program to read first n lines of a file.\n",
    "no_of_line=int(input())\n",
    "a=open('assignment.txt','r')\n",
    "line=a.readlines()\n",
    "print(line[0:no_of_line])"
   ]
  },
  {
   "cell_type": "code",
   "execution_count": null,
   "id": "88af6c5a",
   "metadata": {},
   "outputs": [],
   "source": [
    "# 5. Write a Python program to read last n lines of a file.\n",
    "no_of_line=int(input())\n",
    "a=open('assignment.txt','r')\n",
    "line=a.readlines()\n",
    "print(line[no_of_line:])"
   ]
  },
  {
   "cell_type": "code",
   "execution_count": null,
   "id": "123648b6",
   "metadata": {},
   "outputs": [],
   "source": [
    "# 6.Write a Python program to read a file line by line and store it into a list\n",
    "a6=open('assignment.txt','r')\n",
    "l1=a6.readlines()\n",
    "print(l1)"
   ]
  },
  {
   "cell_type": "code",
   "execution_count": null,
   "id": "0777cb2f",
   "metadata": {},
   "outputs": [],
   "source": [
    "# 7. Write a Python program to read a file line by line store it into a variable. \n",
    "a7=open('assignment.txt','r')\n",
    "l7=[]\n",
    "for i in a7:\n",
    "    l7.append(i)\n",
    "print(l7)"
   ]
  },
  {
   "cell_type": "code",
   "execution_count": null,
   "id": "e1dea0f9",
   "metadata": {},
   "outputs": [],
   "source": [
    "# 8.Write a python program to find the longest words. \n",
    "l1=['jay','yogesh','prem','ghanshym','yug']\n",
    "l1.sort(key=lambda word:len(word))\n",
    "print(l1[-1])"
   ]
  },
  {
   "cell_type": "code",
   "execution_count": null,
   "id": "4bae6279",
   "metadata": {},
   "outputs": [],
   "source": [
    "# 9.Write a Python program to count the number of lines in a text file. \n",
    "a6=open('assignment.txt','r')\n",
    "l1=a6.readlines()\n",
    "print('no of lines in l1 :',len(l1))"
   ]
  },
  {
   "cell_type": "code",
   "execution_count": null,
   "id": "6d67b059",
   "metadata": {},
   "outputs": [],
   "source": [
    "# 10.Write a Python program to count the frequency of words in a file. \n",
    "a10=open('read_file.txt','r')\n",
    "p=a10.read()\n",
    "p=p.split()\n",
    "l10=[]\n",
    "l11=[]\n",
    "print(p)\n",
    "for i in p:\n",
    "    if i not in l10:\n",
    "        l10.append(i)\n",
    "        l11.append(p.count(i))\n",
    "print(list(zip(l10,l11)))"
   ]
  },
  {
   "cell_type": "code",
   "execution_count": null,
   "id": "a941612b",
   "metadata": {},
   "outputs": [],
   "source": [
    "# 11.Write a Python program to write a list to a file. \n",
    "l1=['one ','two ','three ','four ']\n",
    "a11=open('read_file.txt','w')\n",
    "for Str in l1:\n",
    "    a11.write(Str)\n",
    "a11=open('read_file.txt','r')\n",
    "print(a11.read())"
   ]
  },
  {
   "cell_type": "code",
   "execution_count": null,
   "id": "e2aacc5b",
   "metadata": {},
   "outputs": [],
   "source": [
    "# 12.Write a Python program to copy the contents of a file to another file. \n",
    "b1=open('assignment.txt','r')\n",
    "copy_text=b1.read()\n",
    "open('copy.txt','x')\n",
    "a12= open('copy.txt','w')\n",
    "a12.write(copy_text)\n",
    "a12=open('copy.txt','r')\n",
    "print(a12.read())"
   ]
  },
  {
   "cell_type": "code",
   "execution_count": null,
   "id": "e2365fa3",
   "metadata": {},
   "outputs": [],
   "source": [
    "# 13.Explain Exception handling? What is an Error in Python? \n",
    "Ans: a  help of Exception handling you are able to handle error ,\n",
    "    The error indicates trouble that primarily occurs due to the scarcity of system resources\n"
   ]
  },
  {
   "cell_type": "code",
   "execution_count": null,
   "id": "dcb9b658",
   "metadata": {},
   "outputs": [],
   "source": [
    "# 14.How many except statements can a try-except block have? Name Some built-in exception classes\n",
    "Ans: A try-except block can have multiple except statements. \n",
    "     AttributeError, NameError,IndexError,ValueError"
   ]
  },
  {
   "cell_type": "code",
   "execution_count": null,
   "id": "f42b73b2",
   "metadata": {},
   "outputs": [],
   "source": [
    "# 15.When will the else part of try-except-else be executed?\n",
    "Ans : In other words, the else block is executed when the try block completes \n",
    "    successfully and does not raise any exceptions.\n"
   ]
  },
  {
   "cell_type": "code",
   "execution_count": null,
   "id": "b3c60d09",
   "metadata": {},
   "outputs": [],
   "source": [
    "# 16.Can one block of except statements handle multiple exception?\n",
    "Ans : Yes, one block of except statements can handle multiple exceptions."
   ]
  },
  {
   "cell_type": "code",
   "execution_count": null,
   "id": "ccdeb206",
   "metadata": {},
   "outputs": [],
   "source": [
    "# 17. When is the finally block executed?\n",
    "Ans : The finally block is executed after the try and except blocks,\n",
    "      regardless of whether an exception was raised or not."
   ]
  },
  {
   "cell_type": "code",
   "execution_count": null,
   "id": "0cbe8206",
   "metadata": {},
   "outputs": [],
   "source": [
    "# 18. What happens when \"1\"== 1 is executed?\n",
    "Ans:  Output Is False\n"
   ]
  },
  {
   "cell_type": "code",
   "execution_count": 47,
   "id": "38294a63",
   "metadata": {},
   "outputs": [
    {
     "name": "stdout",
     "output_type": "stream",
     "text": [
      "5\n",
      "2.0\n"
     ]
    }
   ],
   "source": [
    "# 19.How Do You Handle Exceptions With Try/Except/Finally In Python? Explain with coding snippets.\n",
    "try:  \n",
    "    num=int(input())  \n",
    "    print(10/num) \n",
    "except: \n",
    "    print(\"enter nonzero number\")"
   ]
  },
  {
   "cell_type": "code",
   "execution_count": null,
   "id": "e9da08c0",
   "metadata": {},
   "outputs": [],
   "source": [
    "# 20.Write python program that user to enter only odd numbers, else will raise an exception.\n",
    "a=int(input())\n",
    "if a%2==0:\n",
    "    print(a)\n",
    "else:\n",
    "    raise ValueError(\"enter only even number\")"
   ]
  },
  {
   "cell_type": "code",
   "execution_count": null,
   "id": "9c9c8218",
   "metadata": {},
   "outputs": [],
   "source": [
    "# 21. What are oops concepts\n",
    "Ans : 1. class and objects 2. Inheritence 3. polymerphism 4. Encapsuation 5.Abstraction"
   ]
  },
  {
   "cell_type": "code",
   "execution_count": 6,
   "id": "da4f1f1b",
   "metadata": {},
   "outputs": [
    {
     "data": {
      "text/plain": [
       "50"
      ]
     },
     "execution_count": 6,
     "metadata": {},
     "output_type": "execute_result"
    }
   ],
   "source": [
    "# 22.How to Define a Class in Python? What Is Self? Give An Example Of A Python Class\n",
    "# Ans : use class, keyword then write ClassName , self Is  parameter used to refer to the instance\n",
    "\n",
    "class MyClass:\n",
    "    def __init__(self):\n",
    "        self.student=50\n",
    "c1=MyClass()\n",
    "c1.student"
   ]
  },
  {
   "cell_type": "code",
   "execution_count": null,
   "id": "1c161121",
   "metadata": {},
   "outputs": [],
   "source": [
    "# 23.Write a Python class named Rectangle constructed by a length and width and a method\n",
    "# which will compute the area of a rectangle\n",
    "class Rectangle:\n",
    "    def area(self,b,h):\n",
    "        self.area=(b*h)*1/2\n",
    "        return self.area\n",
    "r1=Rectangle()\n",
    "print(r1.area(10,20))"
   ]
  },
  {
   "cell_type": "code",
   "execution_count": null,
   "id": "d3d5246d",
   "metadata": {},
   "outputs": [],
   "source": [
    "# 24.Write a Python class named Circle constructed by a radius and two\n",
    "#     methods which will compute the area and the perimeter of a circle   \n",
    "from math import pi\n",
    "class Circle:\n",
    "    def area(self,r):\n",
    "        return 2*pi*r \n",
    "    def perimeter(self,r):\n",
    "        return pi*r**2\n",
    "c1=Circle()\n",
    "print(c1.area(50))\n",
    "print(c1.perimeter(50))"
   ]
  },
  {
   "cell_type": "code",
   "execution_count": 50,
   "id": "b0757910",
   "metadata": {},
   "outputs": [
    {
     "data": {
      "text/plain": [
       "10"
      ]
     },
     "execution_count": 50,
     "metadata": {},
     "output_type": "execute_result"
    }
   ],
   "source": [
    "# 25. Explain Inheritance in Python with an example? What is init? Or What Is A Constructor In Python?\n",
    "# Ans: \n",
    "class A:\n",
    "    var1=10\n",
    "class B(A):\n",
    "    pass\n",
    "b1=B()\n",
    "print(b1.var1)\n",
    "#  init is a constructor in python"
   ]
  },
  {
   "cell_type": "code",
   "execution_count": null,
   "id": "75f07ab8",
   "metadata": {},
   "outputs": [],
   "source": [
    "# 26. What is Instantiation in terms of OOP terminology?\n",
    "Ans:  instantiation refers to the process of create a Object "
   ]
  },
  {
   "cell_type": "code",
   "execution_count": null,
   "id": "ab4b2d78",
   "metadata": {},
   "outputs": [],
   "source": [
    "# 27. What is used to check whether an object o is an instance of class A?\n",
    "Ans : use isinstance method to chack object o is an instance of class A\n",
    "    example : "
   ]
  }
 ],
 "metadata": {
  "kernelspec": {
   "display_name": "Python 3 (ipykernel)",
   "language": "python",
   "name": "python3"
  },
  "language_info": {
   "codemirror_mode": {
    "name": "ipython",
    "version": 3
   },
   "file_extension": ".py",
   "mimetype": "text/x-python",
   "name": "python",
   "nbconvert_exporter": "python",
   "pygments_lexer": "ipython3",
   "version": "3.9.12"
  }
 },
 "nbformat": 4,
 "nbformat_minor": 5
}
