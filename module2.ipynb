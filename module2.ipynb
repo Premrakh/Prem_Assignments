{
 "cells": [
  {
   "cell_type": "code",
   "execution_count": null,
   "id": "8d11680a",
   "metadata": {},
   "outputs": [],
   "source": [
    "# 1.W.A.P to check if a number is positive, negative or zero\n",
    "num=7\n",
    "if num>0:\n",
    "    print(f\"{num} is positive number\")\n",
    "elif num<0:\n",
    "    print(f\"{num} is negative number\")        \n",
    "else:\n",
    "    print(f\"{num} is zero\")        "
   ]
  },
  {
   "cell_type": "code",
   "execution_count": 13,
   "id": "98f0c86c",
   "metadata": {},
   "outputs": [
    {
     "name": "stdout",
     "output_type": "stream",
     "text": [
      "5 factorial = 120\n"
     ]
    }
   ],
   "source": [
    "# 2. W.A.P to get the factorial number of given number\n",
    "n=5\n",
    "fact=1\n",
    "i=1\n",
    "for i in range(1,n+1):\n",
    "    fact=fact*i\n",
    "print(f\"{n} factorial = {fact}\")\n",
    "    "
   ]
  },
  {
   "cell_type": "code",
   "execution_count": 55,
   "id": "5f392ade",
   "metadata": {},
   "outputs": [
    {
     "name": "stdout",
     "output_type": "stream",
     "text": [
      "1\n",
      "2\n",
      "3\n",
      "5\n",
      "8\n",
      "13\n",
      "21\n",
      "34\n",
      "55\n",
      "89\n"
     ]
    }
   ],
   "source": [
    "# 3.Write a Python program to get the Fibonacci series of given range.\n",
    "a=0\n",
    "b=1\n",
    "i=0\n",
    "print(a)\n",
    "while i<10:\n",
    "    c=a+b\n",
    "    print(c)\n",
    "    a=b\n",
    "    b=c\n",
    "    i+=1"
   ]
  },
  {
   "cell_type": "code",
   "execution_count": null,
   "id": "2da779be",
   "metadata": {},
   "outputs": [],
   "source": [
    "# 4.How memory is managed in Python?\n",
    "# ans: The Python memory is primarily managed by Python private heap space. All Python objects and data structures are \n",
    "#     located in a private heap. The programmer does not have access to this private heap and interpreter takes care of \n",
    "#     this Python private heap.\n"
   ]
  },
  {
   "cell_type": "code",
   "execution_count": null,
   "id": "0ad6410a",
   "metadata": {},
   "outputs": [],
   "source": [
    "# 5.What is the purpose continue statement in python?\n",
    "# ans: it countinue with the next iteration of the loop"
   ]
  },
  {
   "cell_type": "code",
   "execution_count": null,
   "id": "b25e3d24",
   "metadata": {},
   "outputs": [],
   "source": [
    "# 6. W.A.P that swap two number with temp variable and without temp variable \n",
    "# with temp..\n",
    "a=7\n",
    "b=6\n",
    "temp=a\n",
    "a=b\n",
    "print(f\"value of a is {a}\")\n",
    "b=temp\n",
    "print(f\"value of b is {b}\")\n",
    "# without temp...\n",
    "m,n=8,9\n",
    "n,m=m,n\n",
    "print(f\"value of m is {m}\")\n",
    "print(f\"value of n is {n}\")"
   ]
  },
  {
   "cell_type": "code",
   "execution_count": null,
   "id": "6307c7ab",
   "metadata": {},
   "outputs": [],
   "source": [
    "# 7.W.A.P to find whether a given number is even or odd,\n",
    "a= int(input(\"enter number,\"))\n",
    "if a%2==0:\n",
    "    print(f\"given number {a} is even\")\n",
    "else:\n",
    "    print(f\"given number {a} is odd\")"
   ]
  },
  {
   "cell_type": "code",
   "execution_count": null,
   "id": "861000b7",
   "metadata": {},
   "outputs": [],
   "source": [
    "#8.W.A.P to test whether a passed letter is a vowel or not.\n",
    "letter=input(\"enter a letter\")\n",
    "letter=letter.title()\n",
    "li=[\"A\",\"E\",\"I\",\"O\",\"U\"]\n",
    "if letter[0:1] in li:\n",
    "    print(f\"{letter} is vowel\")\n",
    "else:\n",
    "    print(f\"{letter} is not vowel\")"
   ]
  },
  {
   "cell_type": "code",
   "execution_count": null,
   "id": "2e581fe7",
   "metadata": {},
   "outputs": [],
   "source": [
    "# 9.W.A.P to sum of three given integers. however if two are equal sum will be zero\n",
    "a=5\n",
    "b=5\n",
    "c=10\n",
    "sum=a+b+c\n",
    "if a==b or b==c or a==c:\n",
    "    print(\"sum of a,b & c is zero\")\n",
    "else:\n",
    "    print(f\"sum of {a},{b}&{c} is {sum}\")"
   ]
  },
  {
   "cell_type": "code",
   "execution_count": null,
   "id": "88597381",
   "metadata": {},
   "outputs": [],
   "source": [
    "# 10.W.A.P that will return true if the two given integer values are equal or their sum or difference is 5.\n",
    "a=10\n",
    "b=10\n",
    "if a==b or a+b==5 or a-b==5:\n",
    "        print(\"true\")\n",
    "else:\n",
    "    print(\"false\")"
   ]
  },
  {
   "cell_type": "code",
   "execution_count": null,
   "id": "35c64739",
   "metadata": {},
   "outputs": [],
   "source": [
    "# 11.Write a python program to sum of the first n positive integers.\n",
    "n=5\n",
    "sum=n*(n+1)/2\n",
    "print(sum)"
   ]
  },
  {
   "cell_type": "code",
   "execution_count": null,
   "id": "3b3ebbee",
   "metadata": {},
   "outputs": [],
   "source": [
    "# 12.Write a Python program to calculate the length of a string.\n",
    "a= input(\"enter text: \")\n",
    "print(len(a))\n"
   ]
  },
  {
   "cell_type": "code",
   "execution_count": null,
   "id": "c20ee1af",
   "metadata": {},
   "outputs": [],
   "source": [
    "# 13.Write a Python program to count the number of characters (character frequency) in a string \n",
    "a=\"Good Morning, i'm learning python programing\"\n",
    "print(a.count(\"i\"))"
   ]
  },
  {
   "cell_type": "code",
   "execution_count": null,
   "id": "d99c5b2b",
   "metadata": {},
   "outputs": [],
   "source": [
    "# 14.What are negative indexes and why are they used?\n",
    "# ans:- You can use negative indexing as your advantage when you want to pick values from the end (right side) of an iterable."
   ]
  },
  {
   "cell_type": "code",
   "execution_count": null,
   "id": "7cd73b2e",
   "metadata": {},
   "outputs": [],
   "source": [
    "# 15. Write a Python program to count occurrences of a substring in a string.\n",
    "a= \"good morning, today is awesome day because today is sunday\"\n",
    "print(a.count('day'))"
   ]
  },
  {
   "cell_type": "code",
   "execution_count": null,
   "id": "ea5b6754",
   "metadata": {},
   "outputs": [],
   "source": [
    "# 16. Write a Python program to count the occurrences of each word in a given sentence \n",
    "Str=\"good morning\"\n",
    "print(Str.count('g'))\n",
    "print(Str.count('o'))\n",
    "print(Str.count('d'))\n",
    "print(Str.count('m'))\n",
    "print(Str.count('r'))\n",
    "print(Str.count('n'))\n",
    "print(Str.count('i'))\n"
   ]
  },
  {
   "cell_type": "code",
   "execution_count": null,
   "id": "3ebf9770",
   "metadata": {},
   "outputs": [],
   "source": [
    "#  17.Write a Python program to get a single string from two given strings, separated by a space and swap the first two\n",
    "#      characters of each string...                      ( ASKING SIR DOUBT)\n",
    "print(\"hello\",\"world\",sep=' ')"
   ]
  },
  {
   "cell_type": "code",
   "execution_count": null,
   "id": "7aad239d",
   "metadata": {},
   "outputs": [],
   "source": [
    "# 18.Write a Python program to add 'ing' at the end of a given string (length should be at least 3). If the given string \n",
    "#    already ends with 'ing' then add 'ly' instead if the string length of the given string is less than 3, leave it unchanged.\n",
    "a=\"string\"\n",
    "if len(a)>=3:\n",
    "    if a[-3:]=='ing':\n",
    "        print(a,end='ly')\n",
    "    else:\n",
    "        print(a,end='ing')\n",
    "else:\n",
    "    print(\"str lenght is less then 3\")"
   ]
  },
  {
   "cell_type": "code",
   "execution_count": 1,
   "id": "bf0e98db",
   "metadata": {},
   "outputs": [
    {
     "name": "stdout",
     "output_type": "stream",
     "text": [
      "10\n",
      "16\n",
      "naresh is good because naresh is rich\n"
     ]
    }
   ],
   "source": [
    "# 19.Write a Python program to find the first appearance of the substring 'not' and 'poor' from a given string, \n",
    "#      if 'not' follows the 'poor', replace the whole 'not'...'poor' substring with 'good'. Return the resulting string.\n",
    "a=\"naresh is not a poor because naresh is rich\"\n",
    "print(a.find('not'))\n",
    "print(a.find('poor'))\n",
    "print(a.replace(a[10:20],'good'))"
   ]
  },
  {
   "cell_type": "code",
   "execution_count": 16,
   "id": "19d56fc2",
   "metadata": {},
   "outputs": [
    {
     "name": "stdout",
     "output_type": "stream",
     "text": [
      "[3, 3, 5, 4]\n"
     ]
    }
   ],
   "source": [
    "# 20.Write a Python function that takes a list of words and returns the length of the longest one.\n",
    "l1=[\"one\",\"two\",\"three\",\"four\"]\n",
    "l2=[]\n",
    "for i in l1:\n",
    "    l2.append(len(i))\n",
    "print(l2)\n",
    "   "
   ]
  },
  {
   "cell_type": "code",
   "execution_count": 22,
   "id": "7c922d05",
   "metadata": {},
   "outputs": [
    {
     "name": "stdout",
     "output_type": "stream",
     "text": [
      "gninrom doog\n"
     ]
    }
   ],
   "source": [
    "# 21.Write a Python function to reverses a string if its length is a multiple of 4.\n",
    "a=\"good morning\" \n",
    "if len(a)%4==0:\n",
    "    print(a[::-1])\n"
   ]
  },
  {
   "cell_type": "code",
   "execution_count": 50,
   "id": "d8534a10",
   "metadata": {},
   "outputs": [
    {
     "name": "stdout",
     "output_type": "stream",
     "text": [
      "he\n",
      "on\n"
     ]
    }
   ],
   "source": [
    "# 22. Write a Python program to get a string made of the first 2 and the last 2 chars from a given a string. \n",
    "#     If the string length is less than 2, return instead of the empty string.\n",
    "a=\"helo world i'm learning python\"\n",
    "if len(a)>2:\n",
    "    print(a[:2])\n",
    "    print(a[-2::1])\n",
    "else:\n",
    "    print(\"instead of the empty string.\")"
   ]
  },
  {
   "cell_type": "code",
   "execution_count": 22,
   "id": "8fd8c76d",
   "metadata": {},
   "outputs": [
    {
     "ename": "AttributeError",
     "evalue": "'list' object has no attribute 'add'",
     "output_type": "error",
     "traceback": [
      "\u001b[1;31m---------------------------------------------------------------------------\u001b[0m",
      "\u001b[1;31mAttributeError\u001b[0m                            Traceback (most recent call last)",
      "Input \u001b[1;32mIn [22]\u001b[0m, in \u001b[0;36m<cell line: 3>\u001b[1;34m()\u001b[0m\n\u001b[0;32m      1\u001b[0m \u001b[38;5;66;03m# 23.Write a Python function to insert a string in the middle of a string.\u001b[39;00m\n\u001b[0;32m      2\u001b[0m a\u001b[38;5;241m=\u001b[39m[\u001b[38;5;124m\"\u001b[39m\u001b[38;5;124mone\u001b[39m\u001b[38;5;124m\"\u001b[39m,\u001b[38;5;124m\"\u001b[39m\u001b[38;5;124mtwo\u001b[39m\u001b[38;5;124m\"\u001b[39m,\u001b[38;5;124m\"\u001b[39m\u001b[38;5;124mfour\u001b[39m\u001b[38;5;124m\"\u001b[39m]\n\u001b[1;32m----> 3\u001b[0m a\u001b[38;5;241m=\u001b[39m\u001b[43ma\u001b[49m\u001b[38;5;241;43m.\u001b[39;49m\u001b[43madd\u001b[49m(\u001b[38;5;241m1\u001b[39m,\u001b[38;5;124m\"\u001b[39m\u001b[38;5;124mtwo\u001b[39m\u001b[38;5;124m\"\u001b[39m)\n\u001b[0;32m      4\u001b[0m \u001b[38;5;28mprint\u001b[39m(a)\n",
      "\u001b[1;31mAttributeError\u001b[0m: 'list' object has no attribute 'add'"
     ]
    }
   ],
   "source": [
    "# 23.Write a Python function to insert a string in the middle of a string.\n",
    "a=[\"one\",\"two\",\"four\"]\n",
    "a=a.insert(1,\"two\")\n",
    "print(a)\n"
   ]
  }
 ],
 "metadata": {
  "kernelspec": {
   "display_name": "Python 3 (ipykernel)",
   "language": "python",
   "name": "python3"
  },
  "language_info": {
   "codemirror_mode": {
    "name": "ipython",
    "version": 3
   },
   "file_extension": ".py",
   "mimetype": "text/x-python",
   "name": "python",
   "nbconvert_exporter": "python",
   "pygments_lexer": "ipython3",
   "version": "3.9.12"
  }
 },
 "nbformat": 4,
 "nbformat_minor": 5
}
